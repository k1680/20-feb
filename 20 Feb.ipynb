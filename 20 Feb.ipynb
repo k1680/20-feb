{
 "cells": [
  {
   "cell_type": "code",
   "execution_count": 1,
   "id": "105628cb-30e9-4973-a51a-3e7e61ff340f",
   "metadata": {},
   "outputs": [
    {
     "data": {
      "text/plain": [
       "'\\nQ1. Explain GET and POST methods.\\nAns: Both GET and POST method is used to transfer data from client to server in HTTP protocol but main difference between POST and GET \\n    method is that GET carries request parameter appended in URL string while POST carries request parameter in message body which makes \\n    it more secure way of transferring data from client to server.\\n    \\n    Key differences:\\n    1)  In case of Get request, only limited amount of data can be sent because data is sent in header.\\n        In case of post request, large amount of data can be sent because data is sent in body.\\n    2)  Get request is not secured because data is exposed in URL bar.\\n        Post request is secured because data is not exposed in URL bar.\\n    3)  Get request can be bookmarked.\\n        Post request cannot be bookmarked.\\n    4)  Get request is idempotent. It means second request will be ignored until response of first request is delivered.\\n        Post request is non-idempotent.\\n    5)  Get request is more efficient and used more than Post.\\n        Post request is less efficient and used less than Get.\\n'"
      ]
     },
     "execution_count": 1,
     "metadata": {},
     "output_type": "execute_result"
    }
   ],
   "source": [
    "\"\"\"\n",
    "Q1. Explain GET and POST methods.\n",
    "Ans: Both GET and POST method is used to transfer data from client to server in HTTP protocol but main difference between POST and GET \n",
    "    method is that GET carries request parameter appended in URL string while POST carries request parameter in message body which makes \n",
    "    it more secure way of transferring data from client to server.\n",
    "    \n",
    "    Key differences:\n",
    "    1)  In case of Get request, only limited amount of data can be sent because data is sent in header.\n",
    "        In case of post request, large amount of data can be sent because data is sent in body.\n",
    "    2)  Get request is not secured because data is exposed in URL bar.\n",
    "        Post request is secured because data is not exposed in URL bar.\n",
    "    3)  Get request can be bookmarked.\n",
    "        Post request cannot be bookmarked.\n",
    "    4)  Get request is idempotent. It means second request will be ignored until response of first request is delivered.\n",
    "        Post request is non-idempotent.\n",
    "    5)  Get request is more efficient and used more than Post.\n",
    "        Post request is less efficient and used less than Get.\n",
    "\"\"\""
   ]
  },
  {
   "cell_type": "code",
   "execution_count": 4,
   "id": "05af6167-ac6a-4805-ae80-fcbb813a8804",
   "metadata": {},
   "outputs": [
    {
     "data": {
      "text/plain": [
       "'\\nQ2. Why is request used in Flask?\\nAns: In a Flask App, we have our own Webpage (Client) and a Server. The Server should process the data.  \\nThe Request, in Flask, is an object that contains all the data sent from the Client to Server. \\nThis data can be recovered using the GET/POST Methods. \\nPOST is used when your application expects user input to be received by command or an HTTP request, \\nwhile GET gets all the information before it even has a chance for submission. \\nUsing both methods at once gives perfect freedom but still requires complex UI patterns like AJAX calls etc, \\nwith most common applications being frameworks where multiple forms are necessary such as Slack Webhooks, MailgunMailserver, \\nand eCommerce Commerce Framework.\\nWith Flask-Request class instead, we don’t have any need anymore since this API allows us flexible handling of many other situations.\\n'"
      ]
     },
     "execution_count": 4,
     "metadata": {},
     "output_type": "execute_result"
    }
   ],
   "source": [
    "\"\"\"\n",
    "Q2. Why is request used in Flask?\n",
    "Ans: In a Flask App, we have our own Webpage (Client) and a Server. The Server should process the data.  \n",
    "The Request, in Flask, is an object that contains all the data sent from the Client to Server. \n",
    "This data can be recovered using the GET/POST Methods. \n",
    "POST is used when your application expects user input to be received by command or an HTTP request, \n",
    "while GET gets all the information before it even has a chance for submission. \n",
    "Using both methods at once gives perfect freedom but still requires complex UI patterns like AJAX calls etc, \n",
    "with most common applications being frameworks where multiple forms are necessary such as Slack Webhooks, MailgunMailserver, \n",
    "and eCommerce Commerce Framework.\n",
    "With Flask-Request class instead, we don’t have any need anymore since this API allows us flexible handling of many other situations.\n",
    "\"\"\""
   ]
  },
  {
   "cell_type": "code",
   "execution_count": 5,
   "id": "e7fc81ed-77b6-453a-9d44-77aef7a40b13",
   "metadata": {},
   "outputs": [
    {
     "data": {
      "text/plain": [
       "'\\nQ3. Why is redirect() used in Flask?\\nAns: \\nA redirect is used in the Flask class to send the user to a particular URL with the status code. \\nConversely, this status code additionally identifies the issue. \\nWhen we access a website, our browser sends a request to the server, and the server replies with what is known as the HTTP status code, \\nwhich is a three-digit number. \\n\\nThe different reasons for errors are:\\n\\n-Unauthorized access or poor request.\\n-Unsupported media file types.\\n-Overload of the backend server.\\n-Internal hardware/connection error.\\n\\n\\nSyntax of Redirect:\\nflask.redirect(location,code=302)\\n\\n\\nParameters:\\n\\n-location(str): the location which URL directs to.\\n-code(int): The status code for Redirect.\\n-Code: The default code is 302 which means that the move is only temporary.\\n\\n\\nReturn: The response object and redirects the user to another target location with the specified code.\\n\\n'"
      ]
     },
     "execution_count": 5,
     "metadata": {},
     "output_type": "execute_result"
    }
   ],
   "source": [
    "\"\"\"\n",
    "Q3. Why is redirect() used in Flask?\n",
    "Ans: \n",
    "A redirect is used in the Flask class to send the user to a particular URL with the status code. \n",
    "Conversely, this status code additionally identifies the issue. \n",
    "When we access a website, our browser sends a request to the server, and the server replies with what is known as the HTTP status code, \n",
    "which is a three-digit number. \n",
    "\n",
    "The different reasons for errors are:\n",
    "\n",
    "-Unauthorized access or poor request.\n",
    "-Unsupported media file types.\n",
    "-Overload of the backend server.\n",
    "-Internal hardware/connection error.\n",
    "\n",
    "\n",
    "Syntax of Redirect:\n",
    "flask.redirect(location,code=302)\n",
    "\n",
    "\n",
    "Parameters:\n",
    "\n",
    "-location(str): the location which URL directs to.\n",
    "-code(int): The status code for Redirect.\n",
    "-Code: The default code is 302 which means that the move is only temporary.\n",
    "\n",
    "\n",
    "Return: The response object and redirects the user to another target location with the specified code.\n",
    "\n",
    "\"\"\""
   ]
  },
  {
   "cell_type": "code",
   "execution_count": 6,
   "id": "cfe37cf5-26f7-4e38-b18c-a5b5a245fd58",
   "metadata": {},
   "outputs": [
    {
     "data": {
      "text/plain": [
       "\"\\nQ4. What are templates in Flask? Why is the render_template() function used?\\nAns:\\nTemplates are files that contain static data as well as placeholders for dynamic data. \\nA template is rendered with specific data to produce a final document. \\nIn your application, you will use templates to render HTML which will display in the user’s browser. \\n\\nrender_template is a Flask function from the flask.templating package. \\nrender_template is used to generate output from a template file based on the Jinja2 engine that is found in application's templates folder.\\nrender_template is typically imported directly from the flask package instead of from flask.templating.\\n\""
      ]
     },
     "execution_count": 6,
     "metadata": {},
     "output_type": "execute_result"
    }
   ],
   "source": [
    "\"\"\"\n",
    "Q4. What are templates in Flask? Why is the render_template() function used?\n",
    "Ans:\n",
    "Templates are files that contain static data as well as placeholders for dynamic data. \n",
    "A template is rendered with specific data to produce a final document. \n",
    "In your application, you will use templates to render HTML which will display in the user’s browser. \n",
    "\n",
    "render_template is a Flask function from the flask.templating package. \n",
    "render_template is used to generate output from a template file based on the Jinja2 engine that is found in application's templates folder.\n",
    "render_template is typically imported directly from the flask package instead of from flask.templating.\n",
    "\"\"\""
   ]
  },
  {
   "cell_type": "code",
   "execution_count": 2,
   "id": "033ffe9e-8966-404e-8ce8-845296ee8ea3",
   "metadata": {},
   "outputs": [
    {
     "name": "stdout",
     "output_type": "stream",
     "text": [
      "Collecting flask\n",
      "  Downloading flask-3.0.2-py3-none-any.whl (101 kB)\n",
      "\u001b[2K     \u001b[90m━━━━━━━━━━━━━━━━━━━━━━━━━━━━━━━━━━━━━━━\u001b[0m \u001b[32m101.3/101.3 kB\u001b[0m \u001b[31m4.4 MB/s\u001b[0m eta \u001b[36m0:00:00\u001b[0m\n",
      "\u001b[?25hCollecting itsdangerous>=2.1.2\n",
      "  Downloading itsdangerous-2.1.2-py3-none-any.whl (15 kB)\n",
      "Collecting blinker>=1.6.2\n",
      "  Downloading blinker-1.7.0-py3-none-any.whl (13 kB)\n",
      "Requirement already satisfied: Jinja2>=3.1.2 in /opt/conda/lib/python3.10/site-packages (from flask) (3.1.2)\n",
      "Requirement already satisfied: click>=8.1.3 in /opt/conda/lib/python3.10/site-packages (from flask) (8.1.3)\n",
      "Collecting Werkzeug>=3.0.0\n",
      "  Downloading werkzeug-3.0.1-py3-none-any.whl (226 kB)\n",
      "\u001b[2K     \u001b[90m━━━━━━━━━━━━━━━━━━━━━━━━━━━━━━━━━━━━━━\u001b[0m \u001b[32m226.7/226.7 kB\u001b[0m \u001b[31m31.0 MB/s\u001b[0m eta \u001b[36m0:00:00\u001b[0m\n",
      "\u001b[?25hRequirement already satisfied: MarkupSafe>=2.0 in /opt/conda/lib/python3.10/site-packages (from Jinja2>=3.1.2->flask) (2.1.1)\n",
      "Installing collected packages: Werkzeug, itsdangerous, blinker, flask\n",
      "  Attempting uninstall: blinker\n",
      "    Found existing installation: blinker 1.5\n",
      "    Uninstalling blinker-1.5:\n",
      "      Successfully uninstalled blinker-1.5\n",
      "Successfully installed Werkzeug-3.0.1 blinker-1.7.0 flask-3.0.2 itsdangerous-2.1.2\n"
     ]
    }
   ],
   "source": [
    "!pip install flask"
   ]
  },
  {
   "cell_type": "code",
   "execution_count": 1,
   "id": "2b2e228c-dc5d-4dbd-860f-d79640a0548e",
   "metadata": {},
   "outputs": [
    {
     "name": "stdout",
     "output_type": "stream",
     "text": [
      " * Serving Flask app '__main__'\n",
      " * Debug mode: off\n"
     ]
    },
    {
     "name": "stderr",
     "output_type": "stream",
     "text": [
      "WARNING: This is a development server. Do not use it in a production deployment. Use a production WSGI server instead.\n",
      " * Running on http://127.0.0.1:5000\n",
      "Press CTRL+C to quit\n"
     ]
    }
   ],
   "source": [
    "\"\"\"\n",
    "Q5. Create a simple API. Use Postman to test it. Attach the screenshot of the output in the Jupyter Notebook.\n",
    "Ans:\n",
    "\"\"\"\n",
    "\n",
    "\n",
    "from flask import Flask, request, jsonify\n",
    "\n",
    "app = Flask(__name__)\n",
    "\n",
    "@app.route('/postman_data', methods=['POST'])\n",
    "def hello():\n",
    "    if(request.method == 'POST'):\n",
    "        n1 = int(request.json['n1'])\n",
    "        n2 = int(request.json['n2'])\n",
    "        s = n1 + n2\n",
    "    return jsonify(f\"The sum of {n1} and {n2} is {s}\")\n",
    "\n",
    "if __name__ == '__main__':\n",
    "    app.run()"
   ]
  },
  {
   "cell_type": "code",
   "execution_count": null,
   "id": "ce4c934d-b4bd-4ab8-9d9b-8fea9e7e4e96",
   "metadata": {},
   "outputs": [],
   "source": []
  }
 ],
 "metadata": {
  "kernelspec": {
   "display_name": "Python 3 (ipykernel)",
   "language": "python",
   "name": "python3"
  },
  "language_info": {
   "codemirror_mode": {
    "name": "ipython",
    "version": 3
   },
   "file_extension": ".py",
   "mimetype": "text/x-python",
   "name": "python",
   "nbconvert_exporter": "python",
   "pygments_lexer": "ipython3",
   "version": "3.10.8"
  }
 },
 "nbformat": 4,
 "nbformat_minor": 5
}
